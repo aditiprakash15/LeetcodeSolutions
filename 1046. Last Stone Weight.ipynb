{
 "cells": [
  {
   "cell_type": "code",
   "execution_count": 23,
   "metadata": {},
   "outputs": [],
   "source": [
    "def lastStoneWeight(stones):\n",
    "        stones = sorted(stones)\n",
    "        while len(stones)!=1:\n",
    "            max=stones[-1]\n",
    "            secmax = stones[-2]\n",
    "            newweight = max-secmax\n",
    "            stones.pop()\n",
    "            stones.pop()\n",
    "            stones.append(newweight)\n",
    "            print(stones)\n",
    "            stones=sorted(stones)\n",
    "        return stones[0]\n",
    "    "
   ]
  },
  {
   "cell_type": "code",
   "execution_count": 24,
   "metadata": {},
   "outputs": [
    {
     "name": "stdout",
     "output_type": "stream",
     "text": [
      "[1, 1, 2, 4, 1]\n",
      "[1, 1, 1, 2]\n",
      "[1, 1, 1]\n",
      "[1, 0]\n",
      "[1]\n",
      "1\n"
     ]
    }
   ],
   "source": [
    "stones=[2,7,4,1,8,1]\n",
    "print(lastStoneWeight(stones))"
   ]
  }
 ],
 "metadata": {
  "kernelspec": {
   "display_name": "Python 3",
   "language": "python",
   "name": "python3"
  },
  "language_info": {
   "codemirror_mode": {
    "name": "ipython",
    "version": 3
   },
   "file_extension": ".py",
   "mimetype": "text/x-python",
   "name": "python",
   "nbconvert_exporter": "python",
   "pygments_lexer": "ipython3",
   "version": "3.6.5"
  }
 },
 "nbformat": 4,
 "nbformat_minor": 2
}
