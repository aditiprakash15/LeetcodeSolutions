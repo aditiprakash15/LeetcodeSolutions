{
 "cells": [
  {
   "cell_type": "code",
   "execution_count": 9,
   "metadata": {},
   "outputs": [],
   "source": [
    "from IPython.core.interactiveshell import InteractiveShell\n",
    "InteractiveShell.ast_node_interactivity = \"all\""
   ]
  },
  {
   "cell_type": "code",
   "execution_count": 12,
   "metadata": {},
   "outputs": [],
   "source": [
    " import re"
   ]
  },
  {
   "cell_type": "code",
   "execution_count": 13,
   "metadata": {},
   "outputs": [],
   "source": [
    "class Solution:\n",
    "   \n",
    "    def freqAlphabets(self, s: str) -> str:\n",
    "        m = {'1':'a','2':'b','3':'c','4':'d','5': 'e','6': 'f','7': 'g','8': 'h','9': 'i','10#': 'j','11#': 'k','12#': 'l','13#': 'm','14#': 'n','15#': 'o','16#': 'p','17#': 'q','18#': 'r','19#': 's','20#': 't','21#': 'u','22#': 'v','23#': 'w','24#': 'x','25#': 'y','26#': 'z'}\n",
    "        out=''\n",
    "        x = re.findall(r'\\d{2}#|\\d',s)\n",
    "        for i in x:\n",
    "            out += m[i]\n",
    "        return out\n",
    "                "
   ]
  },
  {
   "cell_type": "code",
   "execution_count": 14,
   "metadata": {},
   "outputs": [
    {
     "data": {
      "text/plain": [
       "'jkab'"
      ]
     },
     "execution_count": 14,
     "metadata": {},
     "output_type": "execute_result"
    },
    {
     "data": {
      "text/plain": [
       "'acz'"
      ]
     },
     "execution_count": 14,
     "metadata": {},
     "output_type": "execute_result"
    },
    {
     "data": {
      "text/plain": [
       "'y'"
      ]
     },
     "execution_count": 14,
     "metadata": {},
     "output_type": "execute_result"
    },
    {
     "data": {
      "text/plain": [
       "'abcdefghijklmnopqrstuvwxyz'"
      ]
     },
     "execution_count": 14,
     "metadata": {},
     "output_type": "execute_result"
    }
   ],
   "source": [
    "x= Solution()\n",
    "S1= \"10#11#12\"\n",
    "S2= \"1326#\"\n",
    "S3= \"25#\"\n",
    "S4= \"12345678910#11#12#13#14#15#16#17#18#19#20#21#22#23#24#25#26#\"\n",
    "\n",
    "x.freqAlphabets(S1)\n",
    "x.freqAlphabets(S2)\n",
    "x.freqAlphabets(S3)\n",
    "x.freqAlphabets(S4)"
   ]
  }
 ],
 "metadata": {
  "kernelspec": {
   "display_name": "Python 3",
   "language": "python",
   "name": "python3"
  },
  "language_info": {
   "codemirror_mode": {
    "name": "ipython",
    "version": 3
   },
   "file_extension": ".py",
   "mimetype": "text/x-python",
   "name": "python",
   "nbconvert_exporter": "python",
   "pygments_lexer": "ipython3",
   "version": "3.6.5"
  }
 },
 "nbformat": 4,
 "nbformat_minor": 2
}
