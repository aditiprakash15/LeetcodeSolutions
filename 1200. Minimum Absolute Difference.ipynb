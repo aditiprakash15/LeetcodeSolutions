{
 "cells": [
  {
   "cell_type": "code",
   "execution_count": 41,
   "metadata": {},
   "outputs": [],
   "source": [
    "from IPython.core.interactiveshell import InteractiveShell\n",
    "InteractiveShell.ast_node_interactivity = \"all\""
   ]
  },
  {
   "cell_type": "code",
   "execution_count": 46,
   "metadata": {},
   "outputs": [],
   "source": [
    "# float('inf'): It acts as an unbounded upper value for comparison. This is useful for finding lowest values for something\n",
    "class Solution:\n",
    "    def minimumAbsDifference(self, arr):\n",
    "        arr= sorted(arr)\n",
    "        lowest_diff= float('inf')        \n",
    "        result=[]\n",
    "        for i in range(len(arr)-1):\n",
    "            if abs(arr[i]-arr[i+1]) < lowest_diff:\n",
    "                lowest_diff=abs(arr[i]-arr[i+1])\n",
    "        \n",
    "        for i in range(len(arr)-1):\n",
    "            L=[]\n",
    "            if abs(arr[i] - arr[i+1])==lowest_diff:\n",
    "                L.append(arr[i])\n",
    "                L.append(arr[i+1])\n",
    "            if L!= []:\n",
    "                result.append(L)\n",
    "        return result              "
   ]
  },
  {
   "cell_type": "code",
   "execution_count": 47,
   "metadata": {},
   "outputs": [
    {
     "data": {
      "text/plain": [
       "[[-14, -10], [19, 23], [23, 27]]"
      ]
     },
     "execution_count": 47,
     "metadata": {},
     "output_type": "execute_result"
    },
    {
     "data": {
      "text/plain": [
       "[[26, 27]]"
      ]
     },
     "execution_count": 47,
     "metadata": {},
     "output_type": "execute_result"
    },
    {
     "data": {
      "text/plain": [
       "[[1, 3]]"
      ]
     },
     "execution_count": 47,
     "metadata": {},
     "output_type": "execute_result"
    }
   ],
   "source": [
    "x= Solution()\n",
    "arr = [3,8,-10,23,19,-4,-14,27]\n",
    "arr1 = [40,11,26,27,-20]\n",
    "arr2 = [1,3,6,10,15]\n",
    "x.minimumAbsDifference(arr)\n",
    "x.minimumAbsDifference(arr1)\n",
    "x.minimumAbsDifference(arr2)"
   ]
  },
  {
   "cell_type": "markdown",
   "metadata": {},
   "source": [
    "<b> 2nd solution"
   ]
  },
  {
   "cell_type": "code",
   "execution_count": 49,
   "metadata": {},
   "outputs": [],
   "source": [
    "class Solution:\n",
    "    def minimumAbsDifference(self, arr):\n",
    "        arr=sorted(arr)\n",
    "        result=[]\n",
    "        lowest_diff= float('inf')\n",
    "        for i in range(len(arr)-1):\n",
    "            if abs(arr[i]-arr[i+1])< lowest_diff:\n",
    "                result= [[arr[i],arr[i+1]]]\n",
    "                lowest_diff=abs(arr[i]-arr[i+1])\n",
    "                \n",
    "            elif abs(arr[i]-arr[i+1])==lowest_diff:\n",
    "                result.append([arr[i],arr[i+1]])\n",
    "        return result"
   ]
  },
  {
   "cell_type": "code",
   "execution_count": 50,
   "metadata": {},
   "outputs": [
    {
     "data": {
      "text/plain": [
       "[[-14, -10], [19, 23], [23, 27]]"
      ]
     },
     "execution_count": 50,
     "metadata": {},
     "output_type": "execute_result"
    },
    {
     "data": {
      "text/plain": [
       "[[26, 27]]"
      ]
     },
     "execution_count": 50,
     "metadata": {},
     "output_type": "execute_result"
    },
    {
     "data": {
      "text/plain": [
       "[[1, 3]]"
      ]
     },
     "execution_count": 50,
     "metadata": {},
     "output_type": "execute_result"
    }
   ],
   "source": [
    "x= Solution()\n",
    "arr = [3,8,-10,23,19,-4,-14,27]\n",
    "arr1 = [40,11,26,27,-20]\n",
    "arr2 = [1,3,6,10,15]\n",
    "x.minimumAbsDifference(arr)\n",
    "x.minimumAbsDifference(arr1)\n",
    "x.minimumAbsDifference(arr2)"
   ]
  }
 ],
 "metadata": {
  "kernelspec": {
   "display_name": "Python 3",
   "language": "python",
   "name": "python3"
  },
  "language_info": {
   "codemirror_mode": {
    "name": "ipython",
    "version": 3
   },
   "file_extension": ".py",
   "mimetype": "text/x-python",
   "name": "python",
   "nbconvert_exporter": "python",
   "pygments_lexer": "ipython3",
   "version": "3.6.5"
  }
 },
 "nbformat": 4,
 "nbformat_minor": 2
}
