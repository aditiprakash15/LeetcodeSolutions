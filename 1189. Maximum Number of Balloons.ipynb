{
 "cells": [
  {
   "cell_type": "markdown",
   "metadata": {},
   "source": [
    "<b> 1189. Maximum Number of Balloons"
   ]
  },
  {
   "cell_type": "code",
   "execution_count": 6,
   "metadata": {},
   "outputs": [],
   "source": [
    "class Solution:\n",
    "    def maxNumberOfBalloons(self, text):\n",
    "        ch= \"balloon\"           \n",
    "        d={}\n",
    "        for j in text:\n",
    "            if j not in d:\n",
    "                d[j] =1\n",
    "            else:\n",
    "                d[j] +=1\n",
    "        try:       \n",
    "            return min(d[\"b\"],d[\"a\"],d[\"l\"]//2,d[\"o\"]//2,d[\"n\"])\n",
    "        except:\n",
    "            return 0"
   ]
  },
  {
   "cell_type": "code",
   "execution_count": 7,
   "metadata": {},
   "outputs": [
    {
     "data": {
      "text/plain": [
       "2"
      ]
     },
     "execution_count": 7,
     "metadata": {},
     "output_type": "execute_result"
    }
   ],
   "source": [
    "x= Solution()\n",
    "A=\"loonbalxballpoon\"\n",
    "x.maxNumberOfBalloons(A)"
   ]
  }
 ],
 "metadata": {
  "kernelspec": {
   "display_name": "Python 3",
   "language": "python",
   "name": "python3"
  },
  "language_info": {
   "codemirror_mode": {
    "name": "ipython",
    "version": 3
   },
   "file_extension": ".py",
   "mimetype": "text/x-python",
   "name": "python",
   "nbconvert_exporter": "python",
   "pygments_lexer": "ipython3",
   "version": "3.6.5"
  }
 },
 "nbformat": 4,
 "nbformat_minor": 2
}
