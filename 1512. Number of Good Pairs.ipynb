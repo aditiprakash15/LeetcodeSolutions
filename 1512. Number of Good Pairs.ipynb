{
 "cells": [
  {
   "cell_type": "code",
   "execution_count": 1,
   "metadata": {},
   "outputs": [],
   "source": [
    "from IPython.core.interactiveshell import InteractiveShell\n",
    "InteractiveShell.ast_node_interactivity = \"all\""
   ]
  },
  {
   "cell_type": "code",
   "execution_count": 2,
   "metadata": {},
   "outputs": [],
   "source": [
    "class Solution:\n",
    "    def numIdenticalPairs(self, nums):\n",
    "        d = {}\n",
    "        for key in nums:\n",
    "            if key not in d:\n",
    "                d[key] = 1\n",
    "            else:\n",
    "                d[key] +=1\n",
    "        \n",
    "        res=0\n",
    "        for i in d:\n",
    "            if d[i] > 1:\n",
    "                res += (d[i] * (d[i]-1))//2\n",
    "        return res\n",
    "            "
   ]
  },
  {
   "cell_type": "code",
   "execution_count": 3,
   "metadata": {},
   "outputs": [
    {
     "data": {
      "text/plain": [
       "4"
      ]
     },
     "execution_count": 3,
     "metadata": {},
     "output_type": "execute_result"
    },
    {
     "data": {
      "text/plain": [
       "6"
      ]
     },
     "execution_count": 3,
     "metadata": {},
     "output_type": "execute_result"
    }
   ],
   "source": [
    "x = Solution()\n",
    "a = [1,2,3,1,1,3]\n",
    "b = [1,1,1,1]\n",
    "x.numIdenticalPairs(a)\n",
    "x.numIdenticalPairs(b)"
   ]
  },
  {
   "cell_type": "markdown",
   "metadata": {},
   "source": [
    "<b> Second solution without using memory space"
   ]
  },
  {
   "cell_type": "code",
   "execution_count": 4,
   "metadata": {},
   "outputs": [],
   "source": [
    "class Solution:\n",
    "    def numIdenticalPairs(self, nums):\n",
    "        num =  sorted(nums)\n",
    "        begin = 0\n",
    "        end = len(nums) \n",
    "        res = 0\n",
    "        while begin < end:\n",
    "            temp = begin\n",
    "            while (temp+1 < end) and num[temp] == num[temp+1]:\n",
    "                temp += 1\n",
    "                res +=1\n",
    "            begin +=1\n",
    "        return res"
   ]
  },
  {
   "cell_type": "code",
   "execution_count": 5,
   "metadata": {},
   "outputs": [
    {
     "data": {
      "text/plain": [
       "4"
      ]
     },
     "execution_count": 5,
     "metadata": {},
     "output_type": "execute_result"
    },
    {
     "data": {
      "text/plain": [
       "6"
      ]
     },
     "execution_count": 5,
     "metadata": {},
     "output_type": "execute_result"
    }
   ],
   "source": [
    "x = Solution()\n",
    "a = [1,2,3,1,1,3]\n",
    "b = [1,1,1,1]\n",
    "x.numIdenticalPairs(a)\n",
    "x.numIdenticalPairs(b)"
   ]
  }
 ],
 "metadata": {
  "kernelspec": {
   "display_name": "Python 3",
   "language": "python",
   "name": "python3"
  },
  "language_info": {
   "codemirror_mode": {
    "name": "ipython",
    "version": 3
   },
   "file_extension": ".py",
   "mimetype": "text/x-python",
   "name": "python",
   "nbconvert_exporter": "python",
   "pygments_lexer": "ipython3",
   "version": "3.6.5"
  }
 },
 "nbformat": 4,
 "nbformat_minor": 2
}
