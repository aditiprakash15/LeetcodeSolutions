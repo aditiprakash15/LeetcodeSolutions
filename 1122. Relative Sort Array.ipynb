{
 "cells": [
  {
   "cell_type": "code",
   "execution_count": null,
   "metadata": {},
   "outputs": [],
   "source": [
    "class Solution:\n",
    "    def relativeSortArray(self, arr1: List[int], arr2: List[int]) -> List[int]:\n",
    "        d= {}\n",
    "        for num in arr1:\n",
    "            if num not in d:\n",
    "                d[num] =1\n",
    "            else:\n",
    "                d[num] +=1\n",
    "        print(d)\n",
    "        result= []\n",
    "        for val in arr2:\n",
    "            for i in range(d[val]):\n",
    "                result.append(val)\n",
    "        \n",
    "        for val2 in sorted(arr1):            \n",
    "            if val2 not in result:\n",
    "                for i in range(d[val2]):\n",
    "                    result.append(val2)\n",
    "                \n",
    "        return result\n",
    "        "
   ]
  },
  {
   "cell_type": "code",
   "execution_count": null,
   "metadata": {},
   "outputs": [],
   "source": []
  },
  {
   "cell_type": "code",
   "execution_count": null,
   "metadata": {},
   "outputs": [],
   "source": []
  },
  {
   "cell_type": "code",
   "execution_count": null,
   "metadata": {},
   "outputs": [],
   "source": []
  },
  {
   "cell_type": "code",
   "execution_count": null,
   "metadata": {},
   "outputs": [],
   "source": []
  }
 ],
 "metadata": {
  "kernelspec": {
   "display_name": "Python 3",
   "language": "python",
   "name": "python3"
  },
  "language_info": {
   "codemirror_mode": {
    "name": "ipython",
    "version": 3
   },
   "file_extension": ".py",
   "mimetype": "text/x-python",
   "name": "python",
   "nbconvert_exporter": "python",
   "pygments_lexer": "ipython3",
   "version": "3.6.5"
  }
 },
 "nbformat": 4,
 "nbformat_minor": 2
}
