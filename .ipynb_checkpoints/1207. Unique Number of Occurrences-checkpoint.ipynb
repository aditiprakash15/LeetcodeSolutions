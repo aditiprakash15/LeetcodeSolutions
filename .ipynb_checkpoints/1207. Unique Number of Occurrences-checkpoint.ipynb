{
 "cells": [
  {
   "cell_type": "code",
   "execution_count": 24,
   "metadata": {},
   "outputs": [],
   "source": [
    "from IPython.core.interactiveshell import InteractiveShell\n",
    "InteractiveShell.ast_node_interactivity = \"all\""
   ]
  },
  {
   "cell_type": "code",
   "execution_count": 26,
   "metadata": {},
   "outputs": [],
   "source": [
    "class Solution:\n",
    "    def uniqueOccurrences(self, arr):\n",
    "        d={}\n",
    "        for i in arr:\n",
    "            if i not in d:\n",
    "                d[i] =1\n",
    "            else:\n",
    "                d[i] +=1\n",
    "        \n",
    "        L=[]\n",
    "        for i in d:\n",
    "            L.append(d[i])\n",
    "            \n",
    "        res={}\n",
    "        for i in L:\n",
    "            if i in res:\n",
    "                return False\n",
    "            else:\n",
    "                res[i] =1\n",
    "        return True\n",
    "                "
   ]
  },
  {
   "cell_type": "code",
   "execution_count": 27,
   "metadata": {},
   "outputs": [
    {
     "data": {
      "text/plain": [
       "True"
      ]
     },
     "execution_count": 27,
     "metadata": {},
     "output_type": "execute_result"
    },
    {
     "data": {
      "text/plain": [
       "False"
      ]
     },
     "execution_count": 27,
     "metadata": {},
     "output_type": "execute_result"
    },
    {
     "data": {
      "text/plain": [
       "True"
      ]
     },
     "execution_count": 27,
     "metadata": {},
     "output_type": "execute_result"
    }
   ],
   "source": [
    "x = Solution()\n",
    "a = [1,2,2,1,1,3]\n",
    "b = [1,2]\n",
    "c = [-3,0,1,-3,1,1,1,-3,10,0]\n",
    "x.uniqueOccurrences(a)\n",
    "x.uniqueOccurrences(b)\n",
    "x.uniqueOccurrences(c)"
   ]
  },
  {
   "cell_type": "code",
   "execution_count": null,
   "metadata": {},
   "outputs": [],
   "source": []
  }
 ],
 "metadata": {
  "kernelspec": {
   "display_name": "Python 3",
   "language": "python",
   "name": "python3"
  },
  "language_info": {
   "codemirror_mode": {
    "name": "ipython",
    "version": 3
   },
   "file_extension": ".py",
   "mimetype": "text/x-python",
   "name": "python",
   "nbconvert_exporter": "python",
   "pygments_lexer": "ipython3",
   "version": "3.6.5"
  }
 },
 "nbformat": 4,
 "nbformat_minor": 2
}
