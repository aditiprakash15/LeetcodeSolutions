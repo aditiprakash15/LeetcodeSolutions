{
 "cells": [
  {
   "cell_type": "code",
   "execution_count": 19,
   "metadata": {},
   "outputs": [],
   "source": [
    "class Solution:\n",
    "    def countCharacters(words, chars):\n",
    "        dic ={}\n",
    "        for key in chars:\n",
    "            if key not in dic:\n",
    "                dic[key]=1\n",
    "            else:\n",
    "                dic[key] +=1\n",
    "        \n",
    "        y=0\n",
    "        for word in words:\n",
    "            count=0\n",
    "            for char in word: \n",
    "                if char in dic:\n",
    "                    if word.count(char) <= dic[char]:\n",
    "                        count +=1\n",
    "            if len(word)== count:\n",
    "                y += len(word)\n",
    "                                    \n",
    "        return y"
   ]
  },
  {
   "cell_type": "code",
   "execution_count": 20,
   "metadata": {},
   "outputs": [
    {
     "data": {
      "text/plain": [
       "10"
      ]
     },
     "execution_count": 20,
     "metadata": {},
     "output_type": "execute_result"
    }
   ],
   "source": [
    "words = [\"hello\",\"world\",\"leetcode\"]\n",
    "chars = \"welldonehoneyr\"\n",
    "Solution.countCharacters(words,chars)"
   ]
  }
 ],
 "metadata": {
  "kernelspec": {
   "display_name": "Python 3",
   "language": "python",
   "name": "python3"
  },
  "language_info": {
   "codemirror_mode": {
    "name": "ipython",
    "version": 3
   },
   "file_extension": ".py",
   "mimetype": "text/x-python",
   "name": "python",
   "nbconvert_exporter": "python",
   "pygments_lexer": "ipython3",
   "version": "3.6.5"
  }
 },
 "nbformat": 4,
 "nbformat_minor": 2
}
